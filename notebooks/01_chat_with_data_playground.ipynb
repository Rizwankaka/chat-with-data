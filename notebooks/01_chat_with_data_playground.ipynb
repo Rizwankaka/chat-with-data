{
  "cells": [
    {
      "cell_type": "markdown",
      "metadata": {
        "id": "8OnF6qsbDG1t"
      },
      "source": [
        "#[PANDASAI](https://github.com/gventuri/pandas-ai)& [LANGCHAIN](https://github.com/langchain-ai/langchain) : Chat with Data (CSV, Excel, Pandas df)\n",
        "\n",
        "In this workshop, we learn how to develop the apps to Chat with Structured Data in the format of Pandas DataFrames. We cover the develoment of application using `pandasai` and `langchain` apis."
      ]
    },
    {
      "cell_type": "markdown",
      "metadata": {
        "id": "qvi2zrlE09t6"
      },
      "source": [
        "## Supported Models\n",
        "\n",
        "The Pandasai API currently supports several models, and it is continuously being developed with the possibility of adding more models in the future. The supported models include:\n",
        "\n",
        "1. ChatGPT by OpenAI\n",
        "2. StarCoder by Huggingface\n",
        "3. Azure ChatGPT API\n",
        "4. OpenAI Assistant\n",
        "5. Google PaLM\n",
        "6. OSS Model by HF using TextGeneration API\n",
        "\n",
        "These models can be utilized in a conversational form, allowing users to interact with them effectively.\n",
        "\n",
        "To facilitate the usage of these models, this tutorial provides guidance on running them using Google Colab. Google Colab is a platform that enables straightforward onboarding and provides a Google Colab Notebook, which simplifies the process of getting started.\n",
        "\n",
        "By leveraging the provided Google Colab Notebook, users can easily run the supported models within a conversational context, enhancing the overall interactive experience and enabling efficient data analysis.\n",
        "\n",
        "Please note that as the Pandasai API evolves, additional models may be incorporated, expanding the range of options available to users."
      ]
    },
    {
      "cell_type": "markdown",
      "metadata": {
        "id": "mFPp6trsrauF"
      },
      "source": [
        "## Learning Objectives:\n",
        "This tutorial aims to help you achieve the following learning objectives:\n",
        "\n",
        "1. Install the pandasai library.\n",
        "2. Set up the API_TOKEN using either the OpenAI platform or the Hugging Face platform.\n",
        "3. Explore and run basic functionalities provided by pandasai.\n",
        "4. Execute examples using pandasai with predefined prompts for experimentation.\n",
        "5. Chat with Pandas DataFrame using Pandasai & Langchain APIS\n",
        "\n",
        "Please note that while the OpenAI platform is not free, it is still reasonably priced for running a few queries. On the other hand, the StartCoder model by Hugging Face is available for personal use at no cost.\n"
      ]
    },
    {
      "cell_type": "markdown",
      "metadata": {
        "id": "yJjtSdTirwi1"
      },
      "source": [
        "## Prerequisites\n",
        "Before proceeding with this tutorial, make sure you meet the following prerequisites:\n",
        "\n",
        "1. Basic understanding of Python, Pandas, and APIs for generative models.\n",
        "2. Obtain API tokens from the openai platform and/or Hugging Face, depending on the models you intend to use.\n",
        "3. Demonstrated eagerness to learn and develop your skills.\n",
        "4. Familiarisation with HuggingFace Hub\n",
        "\n",
        "Having a foundational knowledge of Python, Pandas, and generative models APIs will be beneficial for understanding the concepts covered in this tutorial. Additionally, acquiring the necessary API tokens from the respective platforms will enable you to interact with the models effectively.\n",
        "\n",
        "It's important to approach this tutorial with a positive attitude and a willingness to learn and improve your skills. Through active participation and a growth mindset, you will be able to make the most of this learning opportunity."
      ]
    },
    {
      "cell_type": "markdown",
      "metadata": {
        "id": "-VQE9nGwDaiG"
      },
      "source": [
        "# Getting Started\n",
        "\n",
        "Installing `Pandasai` is pretty striaght forward using `pip`. The recent releases are hosted on [Pnadasai Pypi](https://pypi.org/project/pandasai/) page. Always check the version, you are going to install. Make sure, check out the [Issues](https://github.com/gventuri/pandas-ai/issues) page of its GitHub Reporistry for any problems you face.  "
      ]
    },
    {
      "cell_type": "markdown",
      "metadata": {
        "id": "MtzpjcogPC4z"
      },
      "source": []
    },
    {
      "cell_type": "code",
      "execution_count": null,
      "metadata": {
        "id": "qtqSnCgwDDCg"
      },
      "outputs": [],
      "source": [
        "!pip install --upgrade pandas pandasai==1.5.11 loguru langchain -q"
      ]
    },
    {
      "cell_type": "markdown",
      "metadata": {
        "id": "DrrlU4QqDmxl"
      },
      "source": [
        "Now we import the dependencies:"
      ]
    },
    {
      "cell_type": "markdown",
      "metadata": {
        "id": "8S1QClHBfcWV"
      },
      "source": [
        "## Generate OPENAI API Token\n",
        "\n",
        "Users are required to generate `YOUR_API_TOKEN`. Follow below simple steps to generate your API_TOKEN with\n",
        "[openai](https://platform.openai.com/overview).\n",
        "\n",
        "1. Go to  https://openai.com/api/ and signup with your email address or connect your Google Account.\n",
        "2. Go to View API Keys on left side of your Personal Account Settings\n",
        "3. Select Create new Secret key\n",
        "\n",
        "> The API access to openai is a paid service. You have to set up billing.\n",
        ">Read the [Pricing](https://platform.openai.com/docs/quickstart/pricing) information before experimenting."
      ]
    },
    {
      "cell_type": "markdown",
      "metadata": {
        "id": "iAtFdufpPN5F"
      },
      "source": [
        "## Generate HUGGING FACE PLATFORM API Token\n",
        "\n",
        "It will take around 2 mins to generate API token.\n",
        "\n",
        "Users are required to generate `YOUR_API_TOKEN`. Follow below simple steps to generate your API_TOKEN with [Hugging Face](https://huggingface.co/).\n",
        "\n",
        "1. Go to  https://huggingface.co/ and signup with your email address or connect your Google Account.\n",
        "2. Go to https://huggingface.co/settings/tokens and generate User Access Token.\n",
        "3. Copy and Save securely for Personal Use\n",
        "\n",
        "> Hugging Face API keys are FREE for personal / educational use."
      ]
    },
    {
      "cell_type": "code",
      "execution_count": 2,
      "metadata": {
        "colab": {
          "base_uri": "https://localhost:8080/"
        },
        "id": "ohPMkz4zDqxz",
        "outputId": "2f3fd209-efac-49b2-b421-eb43b7876ad4"
      },
      "outputs": [
        {
          "name": "stdout",
          "output_type": "stream",
          "text": [
            "Running pandasai version 1.5.11\n"
          ]
        }
      ],
      "source": [
        "# Import basic libraries\n",
        "import pandas as pd\n",
        "import pandasai as pdai\n",
        "from pandasai.llm.openai import OpenAI\n",
        "from pandasai import SmartDataframe\n",
        "from loguru import logger\n",
        "\n",
        "print(f\"Running pandasai version {pdai.__version__}\")"
      ]
    },
    {
      "cell_type": "code",
      "execution_count": null,
      "metadata": {
        "id": "_A_xc0bhD-Ig"
      },
      "outputs": [],
      "source": [
        "# Clear Cache\n",
        "pdai.clear_cache()\n",
        "!rm -r cache"
      ]
    },
    {
      "cell_type": "markdown",
      "metadata": {
        "id": "EdH-49H9ENjt"
      },
      "source": [
        "# Using PANDASAI as Backend\n",
        "\n",
        "With `pandasai`, users can use various LLM models to generate Python Code and Execute. In this section, we explore the available models implemneted in `pandasai` as well as using `LangChain` LLM models.\n"
      ]
    },
    {
      "cell_type": "markdown",
      "metadata": {
        "id": "oDkif73O9p4m"
      },
      "source": [
        "## OpenAI Model\n",
        "\n",
        "\n"
      ]
    },
    {
      "cell_type": "code",
      "execution_count": 3,
      "metadata": {
        "id": "ia6D5pxIS6Oy"
      },
      "outputs": [],
      "source": [
        "import pandas as pd\n",
        "from pandasai import SmartDataframe\n",
        "from pandasai.helpers.openai_info import get_openai_callback\n",
        "import pandasai as pdai\n",
        "# Instantiate a LLM\n",
        "from pandasai.llm import OpenAI\n",
        "\n",
        "# Sample DataFrame\n",
        "df = pd.DataFrame({\n",
        "    \"country\": [\"United States\", \"United Kingdom\", \"France\", \"Germany\", \"Italy\", \"Spain\", \"Canada\", \"Australia\", \"Japan\", \"China\"],\n",
        "    \"gdp\": [19294482071552, 2891615567872, 2411255037952, 3435817336832, 1745433788416, 1181205135360, 1607402389504, 1490967855104, 4380756541440, 14631844184064],\n",
        "    \"happiness_index\": [6.94, 7.16, 6.66, 7.07, 6.38, 6.4, 7.23, 7.22, 5.87, 5.12]\n",
        "})\n",
        "\n",
        "\n",
        "# Enter API Key\n",
        "OPENAI_API_KEY = '' #@param {type:\"string\"}\n",
        "\n",
        "llm = OpenAI(api_token=OPENAI_API_KEY)\n",
        "\n",
        "df = SmartDataframe(df, config={\"llm\": llm,\n",
        "                                \"enable_cache\": False,\n",
        "                                \"conversational\": False})\n",
        "prompt = 'What are the top 5 happiest countries?'\n",
        "response = df.chat(prompt)\n"
      ]
    },
    {
      "cell_type": "code",
      "execution_count": null,
      "metadata": {
        "colab": {
          "base_uri": "https://localhost:8080/"
        },
        "id": "HIZn2wKGFTjG",
        "outputId": "05b9666c-979d-47e3-9e98-454b5b995209"
      },
      "outputs": [
        {
          "data": {
            "text/plain": [
              "pandasai.smart_dataframe.SmartDataframe"
            ]
          },
          "execution_count": 6,
          "metadata": {},
          "output_type": "execute_result"
        }
      ],
      "source": [
        "type(response)"
      ]
    },
    {
      "cell_type": "code",
      "execution_count": null,
      "metadata": {
        "colab": {
          "base_uri": "https://localhost:8080/",
          "height": 206
        },
        "id": "eb5HK_jeFWDA",
        "outputId": "9633ce14-e7cd-419a-8378-9ae776d073bf"
      },
      "outputs": [
        {
          "data": {
            "text/html": [
              "<div>\n",
              "<style scoped>\n",
              "    .dataframe tbody tr th:only-of-type {\n",
              "        vertical-align: middle;\n",
              "    }\n",
              "\n",
              "    .dataframe tbody tr th {\n",
              "        vertical-align: top;\n",
              "    }\n",
              "\n",
              "    .dataframe thead th {\n",
              "        text-align: right;\n",
              "    }\n",
              "</style>\n",
              "<table border=\"1\" class=\"dataframe\">\n",
              "  <thead>\n",
              "    <tr style=\"text-align: right;\">\n",
              "      <th></th>\n",
              "      <th>country</th>\n",
              "      <th>gdp</th>\n",
              "      <th>happiness_index</th>\n",
              "    </tr>\n",
              "  </thead>\n",
              "  <tbody>\n",
              "    <tr>\n",
              "      <th>6</th>\n",
              "      <td>Canada</td>\n",
              "      <td>1607402389504</td>\n",
              "      <td>7.23</td>\n",
              "    </tr>\n",
              "    <tr>\n",
              "      <th>7</th>\n",
              "      <td>Australia</td>\n",
              "      <td>1490967855104</td>\n",
              "      <td>7.22</td>\n",
              "    </tr>\n",
              "    <tr>\n",
              "      <th>1</th>\n",
              "      <td>United Kingdom</td>\n",
              "      <td>2891615567872</td>\n",
              "      <td>7.16</td>\n",
              "    </tr>\n",
              "    <tr>\n",
              "      <th>3</th>\n",
              "      <td>Germany</td>\n",
              "      <td>3435817336832</td>\n",
              "      <td>7.07</td>\n",
              "    </tr>\n",
              "    <tr>\n",
              "      <th>0</th>\n",
              "      <td>United States</td>\n",
              "      <td>19294482071552</td>\n",
              "      <td>6.94</td>\n",
              "    </tr>\n",
              "  </tbody>\n",
              "</table>\n",
              "</div>"
            ],
            "text/plain": [
              "          country             gdp  happiness_index\n",
              "6          Canada   1607402389504             7.23\n",
              "7       Australia   1490967855104             7.22\n",
              "1  United Kingdom   2891615567872             7.16\n",
              "3         Germany   3435817336832             7.07\n",
              "0   United States  19294482071552             6.94"
            ]
          },
          "execution_count": 7,
          "metadata": {},
          "output_type": "execute_result"
        }
      ],
      "source": [
        "response"
      ]
    },
    {
      "cell_type": "code",
      "execution_count": null,
      "metadata": {
        "colab": {
          "base_uri": "https://localhost:8080/"
        },
        "id": "QA77th5FFRG5",
        "outputId": "2662a973-909b-4d9f-c6f1-e6e68af57048"
      },
      "outputs": [
        {
          "name": "stdout",
          "output_type": "stream",
          "text": [
            "          country             gdp  happiness_index\n",
            "6          Canada   1607402389504             7.23\n",
            "7       Australia   1490967855104             7.22\n",
            "1  United Kingdom   2891615567872             7.16\n",
            "3         Germany   3435817336832             7.07\n",
            "0   United States  19294482071552             6.94\n"
          ]
        }
      ],
      "source": [
        "print(response)"
      ]
    },
    {
      "cell_type": "code",
      "execution_count": null,
      "metadata": {
        "colab": {
          "base_uri": "https://localhost:8080/"
        },
        "id": "D-uYm-mbFp0x",
        "outputId": "fc23600b-737e-4c40-9da3-7866ac4ff665"
      },
      "outputs": [
        {
          "name": "stdout",
          "output_type": "stream",
          "text": [
            "20901884461056\n",
            "Tokens Used: 448\n",
            "\tPrompt Tokens: 242\n",
            "\tCompletion Tokens: 206\n",
            "Total Cost (USD): $ 0.000654\n"
          ]
        }
      ],
      "source": [
        "#using the callback to calculate the tokens and cost for each run\n",
        "with get_openai_callback() as cb:\n",
        "    response = df.chat(\"Calculate the sum of the gdp of north american countries\")\n",
        "    print(response)\n",
        "    print(cb)"
      ]
    },
    {
      "cell_type": "markdown",
      "metadata": {
        "id": "PkeVA1iDF9sl"
      },
      "source": []
    },
    {
      "cell_type": "markdown",
      "metadata": {
        "id": "aeTOQettEfWT"
      },
      "source": [
        "After loading the Dataframe and input of Prompt, now we are ready to run the Prompt with given dataframe and query. As a first setp, we instantiate the llm model with selected option. In order to understand, what is going under the hood, we set `verbose=True`. Let us run now!"
      ]
    },
    {
      "cell_type": "markdown",
      "metadata": {
        "id": "3w4BLXuVY4jO"
      },
      "source": [
        "As you can see from above experiments, having `verbose=True`, we can see the code generated by LLMs API and then this code is run to produce and answer on complete dataset."
      ]
    },
    {
      "cell_type": "code",
      "execution_count": null,
      "metadata": {
        "id": "2wN200AwmUa6"
      },
      "outputs": [],
      "source": []
    },
    {
      "cell_type": "markdown",
      "metadata": {
        "id": "2A44RePXXldV"
      },
      "source": [
        "## Play Around\n",
        "\n",
        "Users can play around various questions about the tiny dataset we generated above. Using this notebook, you can select between Model Options and ask questions based on your problem."
      ]
    },
    {
      "cell_type": "markdown",
      "metadata": {
        "id": "iWH56NfdiioM"
      },
      "source": [
        "## More Examples\n",
        "\n",
        "In above section, we showed a little demo with small dataframe. Usually data is stored in `.csv` , .=`.xlsx` and other formats. `Pandasai` treats any data uploaded as Pandas dataframe and proceed accordingly.\n",
        "\n",
        "In this section, we include some of the [examples](https://github.com/gventuri/pandas-ai/tree/main/examples) shipped with `pandasai` reporsitory.\n"
      ]
    },
    {
      "cell_type": "code",
      "execution_count": null,
      "metadata": {
        "id": "WnP-JPZzcFrJ"
      },
      "outputs": [],
      "source": [
        "#Loading CSV file\n",
        "import pandas as pd\n",
        "from pandasai import PandasAI\n",
        "from pandasai.llm.openai import OpenAI\n",
        "file_path ='https://raw.githubusercontent.com/gventuri/pandas-ai/main/examples/data/Loan%20payments%20data.csv'\n",
        "df = pd.read_csv(file_path)"
      ]
    },
    {
      "cell_type": "code",
      "execution_count": null,
      "metadata": {
        "id": "gupY58GRcFa4"
      },
      "outputs": [],
      "source": [
        "# Enter API Key\n",
        "OPENAI_API_KEY = '' #@param {type:\"string\"}\n",
        "\n",
        "llm = OpenAI(api_token=OPENAI_API_KEY)\n",
        "\n",
        "df = SmartDataframe(df, config={\"llm\": llm,\n",
        "                                \"verbose\": True,\n",
        "                                \"enable_cache\": False,\n",
        "                                \"conversational\": False})"
      ]
    },
    {
      "cell_type": "code",
      "execution_count": null,
      "metadata": {
        "id": "FOK-uaPBcFOq"
      },
      "outputs": [],
      "source": [
        "# Enter Prompt related to data or Select from Pre-defined for demo purposes.\n",
        "\n",
        "prompt = 'Generate bar Plot of Loans Paid by Men & Women' #@param [ \"How many loans are from Women that have been paid off?\", \"Generate bar Plot of Loans Paid by Men & Women\"]  {allow-input: true}"
      ]
    },
    {
      "cell_type": "code",
      "execution_count": null,
      "metadata": {
        "colab": {
          "base_uri": "https://localhost:8080/",
          "height": 516
        },
        "id": "GXeX1QghiC0F",
        "outputId": "f5219ed0-3868-44b5-a2ca-d452105eb4ec"
      },
      "outputs": [
        {
          "data": {
            "text/plain": [
              "<Figure size 1000x600 with 0 Axes>"
            ]
          },
          "metadata": {},
          "output_type": "display_data"
        },
        {
          "data": {
            "image/png": "[encoded data removed]",
            "text/plain": [
              "<Figure size 1000x600 with 1 Axes>"
            ]
          },
          "metadata": {},
          "output_type": "display_data"
        }
      ],
      "source": [
        "response = df.chat(prompt)"
      ]
    },
    {
      "cell_type": "code",
      "execution_count": null,
      "metadata": {
        "colab": {
          "base_uri": "https://localhost:8080/"
        },
        "id": "J8K29pWolDbI",
        "outputId": "29a49e10-8786-438b-f3fb-d123386e5a2a"
      },
      "outputs": [
        {
          "name": "stdout",
          "output_type": "stream",
          "text": [
            "247\n"
          ]
        }
      ],
      "source": [
        "#Let us run the code ourselves and find out the results matches or not?\n",
        "import pandas as pd\n",
        "file_path ='https://raw.githubusercontent.com/gventuri/pandas-ai/main/examples/data/Loan%20payments%20data.csv'\n",
        "df = pd.read_csv(file_path)\n",
        "num_loans = len(df[(df['Gender'] == 'male') & (df['loan_status'] == 'PAIDOFF')]\n",
        "    )\n",
        "print(num_loans)"
      ]
    },
    {
      "cell_type": "code",
      "execution_count": null,
      "metadata": {
        "colab": {
          "base_uri": "https://localhost:8080/"
        },
        "id": "WgUMtfAOe0t4",
        "outputId": "26b23a27-11b5-4a1b-f724-b5cd587af1d8"
      },
      "outputs": [
        {
          "name": "stdout",
          "output_type": "stream",
          "text": [
            "53\n"
          ]
        }
      ],
      "source": [
        "import pandas as pd\n",
        "file_path ='https://raw.githubusercontent.com/gventuri/pandas-ai/main/examples/data/Loan%20payments%20data.csv'\n",
        "df = pd.read_csv(file_path)\n",
        "num_loans = len(df[(df['Gender'] == 'female') & (df['loan_status'] == 'PAIDOFF')]\n",
        "    )\n",
        "print(num_loans)"
      ]
    },
    {
      "cell_type": "markdown",
      "metadata": {
        "id": "UbeJXL3wkmXE"
      },
      "source": [
        "The answers generated by Pandas AI and manually are same. However, it may not be a case always."
      ]
    },
    {
      "cell_type": "markdown",
      "metadata": {
        "id": "AQ11XG3JaOH3"
      },
      "source": [
        "\n",
        "# Remarks\n",
        "In this concise tutorial, we have explored the Pandasai Library and gained insight into its higher-level architecture. This library offers a convenient solution for individuals to inquire about their data without the need to train in-house Large Language Models (LLMs) on company data. While there are various potential applications for this tool, it's important to remain mindful that the generated code by LLMs may occasionally produce unexpected outputs.\n",
        "\n",
        "It's worth emphasizing that Pandas AI is an actively developed project, indicating ongoing efforts to improve and enhance its functionality. With dedicated contributors, exciting features are being developed and added to this library.\n",
        "\n",
        "> **Stay tuned! There's more to come in the world of Pandas AI as it evolves and continues to empower users in their data exploration and analysis endeavors.**\n"
      ]
    },
    {
      "cell_type": "markdown",
      "metadata": {
        "id": "jC_P3Ncd2Fc2"
      },
      "source": [
        "# LANGCHAIN: Chat with Data using `pandas-agent`\n",
        "\n",
        "In this section, we explore, how can we chat with pandas DataFrame using `create_pandas_dataframe_agent` provided with `langchain` API. Once, code is ready, we can go and integrate the code in the App."
      ]
    },
    {
      "cell_type": "code",
      "execution_count": 9,
      "metadata": {
        "colab": {
          "base_uri": "https://localhost:8080/"
        },
        "id": "kU6Q2jRzmqXg",
        "outputId": "2e98cf57-4bab-483d-93a3-12b858510bc0"
      },
      "outputs": [
        {
          "name": "stdout",
          "output_type": "stream",
          "text": [
            "\u001b[?25l     \u001b[90m━━━━━━━━━━━━━━━━━━━━━━━━━━━━━━━━━━━━━━━━\u001b[0m \u001b[32m0.0/163.0 kB\u001b[0m \u001b[31m?\u001b[0m eta \u001b[36m-:--:--\u001b[0m\r\u001b[2K     \u001b[91m━━━━━━━━━━━━━━━━━━━━━━━━━━━\u001b[0m\u001b[91m╸\u001b[0m\u001b[90m━━━━━━━━━━━━\u001b[0m \u001b[32m112.6/163.0 kB\u001b[0m \u001b[31m3.2 MB/s\u001b[0m eta \u001b[36m0:00:01\u001b[0m\r\u001b[2K     \u001b[90m━━━━━━━━━━━━━━━━━━━━━━━━━━━━━━━━━━━━━━━━\u001b[0m \u001b[32m163.0/163.0 kB\u001b[0m \u001b[31m3.4 MB/s\u001b[0m eta \u001b[36m0:00:00\u001b[0m\n",
            "\u001b[?25h"
          ]
        }
      ],
      "source": [
        "! pip install langchain-experimental -q"
      ]
    },
    {
      "cell_type": "code",
      "execution_count": 10,
      "metadata": {
        "id": "0NrbEwgFXswe"
      },
      "outputs": [],
      "source": [
        "from langchain.agents import AgentType\n",
        "from langchain_experimental.agents.agent_toolkits.pandas.base import create_pandas_dataframe_agent\n",
        "from langchain.callbacks.streamlit import StreamlitCallbackHandler\n",
        "from langchain.chat_models import ChatOpenAI"
      ]
    },
    {
      "cell_type": "code",
      "execution_count": 11,
      "metadata": {
        "id": "UcbGEUC82lY9"
      },
      "outputs": [],
      "source": [
        "#Loading CSV file\n",
        "import pandas as pd\n",
        "file_path ='https://raw.githubusercontent.com/gventuri/pandas-ai/main/examples/data/Loan%20payments%20data.csv'\n",
        "df = pd.read_csv(file_path)"
      ]
    },
    {
      "cell_type": "code",
      "execution_count": 12,
      "metadata": {
        "colab": {
          "base_uri": "https://localhost:8080/",
          "height": 206
        },
        "id": "wpNKrPjH2v5c",
        "outputId": "c90e25cd-96ba-4330-c749-bf753a27d42f"
      },
      "outputs": [
        {
          "data": {
            "text/html": [
              "\n",
              "  <div id=\"df-9f19fc26-73a5-48d6-b498-3a18cf354a2b\" class=\"colab-df-container\">\n",
              "    <div>\n",
              "<style scoped>\n",
              "    .dataframe tbody tr th:only-of-type {\n",
              "        vertical-align: middle;\n",
              "    }\n",
              "\n",
              "    .dataframe tbody tr th {\n",
              "        vertical-align: top;\n",
              "    }\n",
              "\n",
              "    .dataframe thead th {\n",
              "        text-align: right;\n",
              "    }\n",
              "</style>\n",
              "<table border=\"1\" class=\"dataframe\">\n",
              "  <thead>\n",
              "    <tr style=\"text-align: right;\">\n",
              "      <th></th>\n",
              "      <th>Loan_ID</th>\n",
              "      <th>loan_status</th>\n",
              "      <th>Principal</th>\n",
              "      <th>terms</th>\n",
              "      <th>effective_date</th>\n",
              "      <th>due_date</th>\n",
              "      <th>paid_off_time</th>\n",
              "      <th>past_due_days</th>\n",
              "      <th>age</th>\n",
              "      <th>education</th>\n",
              "      <th>Gender</th>\n",
              "    </tr>\n",
              "  </thead>\n",
              "  <tbody>\n",
              "    <tr>\n",
              "      <th>0</th>\n",
              "      <td>xqd20166231</td>\n",
              "      <td>PAIDOFF</td>\n",
              "      <td>1000</td>\n",
              "      <td>30</td>\n",
              "      <td>9/8/2016</td>\n",
              "      <td>10/7/2016</td>\n",
              "      <td>9/14/2016 19:31</td>\n",
              "      <td>NaN</td>\n",
              "      <td>45</td>\n",
              "      <td>High School or Below</td>\n",
              "      <td>male</td>\n",
              "    </tr>\n",
              "    <tr>\n",
              "      <th>1</th>\n",
              "      <td>xqd20168902</td>\n",
              "      <td>PAIDOFF</td>\n",
              "      <td>1000</td>\n",
              "      <td>30</td>\n",
              "      <td>9/8/2016</td>\n",
              "      <td>10/7/2016</td>\n",
              "      <td>10/7/2016 9:00</td>\n",
              "      <td>NaN</td>\n",
              "      <td>50</td>\n",
              "      <td>Bechalor</td>\n",
              "      <td>female</td>\n",
              "    </tr>\n",
              "    <tr>\n",
              "      <th>2</th>\n",
              "      <td>xqd20160003</td>\n",
              "      <td>PAIDOFF</td>\n",
              "      <td>1000</td>\n",
              "      <td>30</td>\n",
              "      <td>9/8/2016</td>\n",
              "      <td>10/7/2016</td>\n",
              "      <td>9/25/2016 16:58</td>\n",
              "      <td>NaN</td>\n",
              "      <td>33</td>\n",
              "      <td>Bechalor</td>\n",
              "      <td>female</td>\n",
              "    </tr>\n",
              "    <tr>\n",
              "      <th>3</th>\n",
              "      <td>xqd20160004</td>\n",
              "      <td>PAIDOFF</td>\n",
              "      <td>1000</td>\n",
              "      <td>15</td>\n",
              "      <td>9/8/2016</td>\n",
              "      <td>9/22/2016</td>\n",
              "      <td>9/22/2016 20:00</td>\n",
              "      <td>NaN</td>\n",
              "      <td>27</td>\n",
              "      <td>college</td>\n",
              "      <td>male</td>\n",
              "    </tr>\n",
              "    <tr>\n",
              "      <th>4</th>\n",
              "      <td>xqd20160005</td>\n",
              "      <td>PAIDOFF</td>\n",
              "      <td>1000</td>\n",
              "      <td>30</td>\n",
              "      <td>9/9/2016</td>\n",
              "      <td>10/8/2016</td>\n",
              "      <td>9/23/2016 21:36</td>\n",
              "      <td>NaN</td>\n",
              "      <td>28</td>\n",
              "      <td>college</td>\n",
              "      <td>female</td>\n",
              "    </tr>\n",
              "  </tbody>\n",
              "</table>\n",
              "</div>\n",
              "    <div class=\"colab-df-buttons\">\n",
              "\n",
              "  <div class=\"colab-df-container\">\n",
              "    <button class=\"colab-df-convert\" onclick=\"convertToInteractive('df-9f19fc26-73a5-48d6-b498-3a18cf354a2b')\"\n",
              "            title=\"Convert this dataframe to an interactive table.\"\n",
              "            style=\"display:none;\">\n",
              "\n",
              "  <svg xmlns=\"http://www.w3.org/2000/svg\" height=\"24px\" viewBox=\"0 -960 960 960\">\n",
              "    <path d=\"M120-120v-720h720v720H120Zm60-500h600v-160H180v160Zm220 220h160v-160H400v160Zm0 220h160v-160H400v160ZM180-400h160v-160H180v160Zm440 0h160v-160H620v160ZM180-180h160v-160H180v160Zm440 0h160v-160H620v160Z\"/>\n",
              "  </svg>\n",
              "    </button>\n",
              "\n",
              "  <style>\n",
              "    .colab-df-container {\n",
              "      display:flex;\n",
              "      gap: 12px;\n",
              "    }\n",
              "\n",
              "    .colab-df-convert {\n",
              "      background-color: #E8F0FE;\n",
              "      border: none;\n",
              "      border-radius: 50%;\n",
              "      cursor: pointer;\n",
              "      display: none;\n",
              "      fill: #1967D2;\n",
              "      height: 32px;\n",
              "      padding: 0 0 0 0;\n",
              "      width: 32px;\n",
              "    }\n",
              "\n",
              "    .colab-df-convert:hover {\n",
              "      background-color: #E2EBFA;\n",
              "      box-shadow: 0px 1px 2px rgba(60, 64, 67, 0.3), 0px 1px 3px 1px rgba(60, 64, 67, 0.15);\n",
              "      fill: #174EA6;\n",
              "    }\n",
              "\n",
              "    .colab-df-buttons div {\n",
              "      margin-bottom: 4px;\n",
              "    }\n",
              "\n",
              "    [theme=dark] .colab-df-convert {\n",
              "      background-color: #3B4455;\n",
              "      fill: #D2E3FC;\n",
              "    }\n",
              "\n",
              "    [theme=dark] .colab-df-convert:hover {\n",
              "      background-color: #434B5C;\n",
              "      box-shadow: 0px 1px 3px 1px rgba(0, 0, 0, 0.15);\n",
              "      filter: drop-shadow(0px 1px 2px rgba(0, 0, 0, 0.3));\n",
              "      fill: #FFFFFF;\n",
              "    }\n",
              "  </style>\n",
              "\n",
              "    <script>\n",
              "      const buttonEl =\n",
              "        document.querySelector('#df-9f19fc26-73a5-48d6-b498-3a18cf354a2b button.colab-df-convert');\n",
              "      buttonEl.style.display =\n",
              "        google.colab.kernel.accessAllowed ? 'block' : 'none';\n",
              "\n",
              "      async function convertToInteractive(key) {\n",
              "        const element = document.querySelector('#df-9f19fc26-73a5-48d6-b498-3a18cf354a2b');\n",
              "        const dataTable =\n",
              "          await google.colab.kernel.invokeFunction('convertToInteractive',\n",
              "                                                    [key], {});\n",
              "        if (!dataTable) return;\n",
              "\n",
              "        const docLinkHtml = 'Like what you see? Visit the ' +\n",
              "          '<a target=\"_blank\" href=https://colab.research.google.com/notebooks/data_table.ipynb>data table notebook</a>'\n",
              "          + ' to learn more about interactive tables.';\n",
              "        element.innerHTML = '';\n",
              "        dataTable['output_type'] = 'display_data';\n",
              "        await google.colab.output.renderOutput(dataTable, element);\n",
              "        const docLink = document.createElement('div');\n",
              "        docLink.innerHTML = docLinkHtml;\n",
              "        element.appendChild(docLink);\n",
              "      }\n",
              "    </script>\n",
              "  </div>\n",
              "\n",
              "\n",
              "<div id=\"df-ce4fbabf-b45e-4212-92c0-4966ac4b7db4\">\n",
              "  <button class=\"colab-df-quickchart\" onclick=\"quickchart('df-ce4fbabf-b45e-4212-92c0-4966ac4b7db4')\"\n",
              "            title=\"Suggest charts\"\n",
              "            style=\"display:none;\">\n",
              "\n",
              "<svg xmlns=\"http://www.w3.org/2000/svg\" height=\"24px\"viewBox=\"0 0 24 24\"\n",
              "     width=\"24px\">\n",
              "    <g>\n",
              "        <path d=\"M19 3H5c-1.1 0-2 .9-2 2v14c0 1.1.9 2 2 2h14c1.1 0 2-.9 2-2V5c0-1.1-.9-2-2-2zM9 17H7v-7h2v7zm4 0h-2V7h2v10zm4 0h-2v-4h2v4z\"/>\n",
              "    </g>\n",
              "</svg>\n",
              "  </button>\n",
              "\n",
              "<style>\n",
              "  .colab-df-quickchart {\n",
              "      --bg-color: #E8F0FE;\n",
              "      --fill-color: #1967D2;\n",
              "      --hover-bg-color: #E2EBFA;\n",
              "      --hover-fill-color: #174EA6;\n",
              "      --disabled-fill-color: #AAA;\n",
              "      --disabled-bg-color: #DDD;\n",
              "  }\n",
              "\n",
              "  [theme=dark] .colab-df-quickchart {\n",
              "      --bg-color: #3B4455;\n",
              "      --fill-color: #D2E3FC;\n",
              "      --hover-bg-color: #434B5C;\n",
              "      --hover-fill-color: #FFFFFF;\n",
              "      --disabled-bg-color: #3B4455;\n",
              "      --disabled-fill-color: #666;\n",
              "  }\n",
              "\n",
              "  .colab-df-quickchart {\n",
              "    background-color: var(--bg-color);\n",
              "    border: none;\n",
              "    border-radius: 50%;\n",
              "    cursor: pointer;\n",
              "    display: none;\n",
              "    fill: var(--fill-color);\n",
              "    height: 32px;\n",
              "    padding: 0;\n",
              "    width: 32px;\n",
              "  }\n",
              "\n",
              "  .colab-df-quickchart:hover {\n",
              "    background-color: var(--hover-bg-color);\n",
              "    box-shadow: 0 1px 2px rgba(60, 64, 67, 0.3), 0 1px 3px 1px rgba(60, 64, 67, 0.15);\n",
              "    fill: var(--button-hover-fill-color);\n",
              "  }\n",
              "\n",
              "  .colab-df-quickchart-complete:disabled,\n",
              "  .colab-df-quickchart-complete:disabled:hover {\n",
              "    background-color: var(--disabled-bg-color);\n",
              "    fill: var(--disabled-fill-color);\n",
              "    box-shadow: none;\n",
              "  }\n",
              "\n",
              "  .colab-df-spinner {\n",
              "    border: 2px solid var(--fill-color);\n",
              "    border-color: transparent;\n",
              "    border-bottom-color: var(--fill-color);\n",
              "    animation:\n",
              "      spin 1s steps(1) infinite;\n",
              "  }\n",
              "\n",
              "  @keyframes spin {\n",
              "    0% {\n",
              "      border-color: transparent;\n",
              "      border-bottom-color: var(--fill-color);\n",
              "      border-left-color: var(--fill-color);\n",
              "    }\n",
              "    20% {\n",
              "      border-color: transparent;\n",
              "      border-left-color: var(--fill-color);\n",
              "      border-top-color: var(--fill-color);\n",
              "    }\n",
              "    30% {\n",
              "      border-color: transparent;\n",
              "      border-left-color: var(--fill-color);\n",
              "      border-top-color: var(--fill-color);\n",
              "      border-right-color: var(--fill-color);\n",
              "    }\n",
              "    40% {\n",
              "      border-color: transparent;\n",
              "      border-right-color: var(--fill-color);\n",
              "      border-top-color: var(--fill-color);\n",
              "    }\n",
              "    60% {\n",
              "      border-color: transparent;\n",
              "      border-right-color: var(--fill-color);\n",
              "    }\n",
              "    80% {\n",
              "      border-color: transparent;\n",
              "      border-right-color: var(--fill-color);\n",
              "      border-bottom-color: var(--fill-color);\n",
              "    }\n",
              "    90% {\n",
              "      border-color: transparent;\n",
              "      border-bottom-color: var(--fill-color);\n",
              "    }\n",
              "  }\n",
              "</style>\n",
              "\n",
              "  <script>\n",
              "    async function quickchart(key) {\n",
              "      const quickchartButtonEl =\n",
              "        document.querySelector('#' + key + ' button');\n",
              "      quickchartButtonEl.disabled = true;  // To prevent multiple clicks.\n",
              "      quickchartButtonEl.classList.add('colab-df-spinner');\n",
              "      try {\n",
              "        const charts = await google.colab.kernel.invokeFunction(\n",
              "            'suggestCharts', [key], {});\n",
              "      } catch (error) {\n",
              "        console.error('Error during call to suggestCharts:', error);\n",
              "      }\n",
              "      quickchartButtonEl.classList.remove('colab-df-spinner');\n",
              "      quickchartButtonEl.classList.add('colab-df-quickchart-complete');\n",
              "    }\n",
              "    (() => {\n",
              "      let quickchartButtonEl =\n",
              "        document.querySelector('#df-ce4fbabf-b45e-4212-92c0-4966ac4b7db4 button');\n",
              "      quickchartButtonEl.style.display =\n",
              "        google.colab.kernel.accessAllowed ? 'block' : 'none';\n",
              "    })();\n",
              "  </script>\n",
              "</div>\n",
              "\n",
              "    </div>\n",
              "  </div>\n"
            ],
            "text/plain": [
              "       Loan_ID loan_status  Principal  terms effective_date   due_date  \\\n",
              "0  xqd20166231     PAIDOFF       1000     30       9/8/2016  10/7/2016   \n",
              "1  xqd20168902     PAIDOFF       1000     30       9/8/2016  10/7/2016   \n",
              "2  xqd20160003     PAIDOFF       1000     30       9/8/2016  10/7/2016   \n",
              "3  xqd20160004     PAIDOFF       1000     15       9/8/2016  9/22/2016   \n",
              "4  xqd20160005     PAIDOFF       1000     30       9/9/2016  10/8/2016   \n",
              "\n",
              "     paid_off_time  past_due_days  age             education  Gender  \n",
              "0  9/14/2016 19:31            NaN   45  High School or Below    male  \n",
              "1   10/7/2016 9:00            NaN   50              Bechalor  female  \n",
              "2  9/25/2016 16:58            NaN   33              Bechalor  female  \n",
              "3  9/22/2016 20:00            NaN   27               college    male  \n",
              "4  9/23/2016 21:36            NaN   28               college  female  "
            ]
          },
          "execution_count": 12,
          "metadata": {},
          "output_type": "execute_result"
        }
      ],
      "source": [
        "df.head()"
      ]
    },
    {
      "cell_type": "code",
      "execution_count": 13,
      "metadata": {
        "id": "-MCy6cIS3JEl"
      },
      "outputs": [],
      "source": [
        "# Enter API Key\n",
        "OPENAI_API_KEY = '' #@param {type:\"string\"}"
      ]
    },
    {
      "cell_type": "code",
      "execution_count": 14,
      "metadata": {
        "id": "M7PzWwa12xBK"
      },
      "outputs": [],
      "source": [
        "llm = ChatOpenAI(\n",
        "            temperature=0, model=\"gpt-3.5-turbo-0613\", openai_api_key=OPENAI_API_KEY, streaming=True\n",
        "        )\n",
        "\n",
        "pandas_df_agent = create_pandas_dataframe_agent(\n",
        "    llm,\n",
        "    df,\n",
        "    verbose=True,\n",
        "    agent_type=AgentType.OPENAI_FUNCTIONS,\n",
        "    handle_parsing_errors=True,\n",
        ")"
      ]
    },
    {
      "cell_type": "code",
      "execution_count": 15,
      "metadata": {
        "id": "rKlME_cV3XPx"
      },
      "outputs": [],
      "source": [
        "# Enter Prompt related to data or Select from Pre-defined for demo purposes.\n",
        "\n",
        "prompt = 'How many loans are from Women that have been paid off?' #@param [ \"How many loans are from Women that have been paid off?\", \"Generate bar Plot of Loans Paid by Men & Women\"]  {allow-input: true}"
      ]
    },
    {
      "cell_type": "code",
      "execution_count": 16,
      "metadata": {
        "colab": {
          "base_uri": "https://localhost:8080/"
        },
        "id": "-8rFT8z03Le9",
        "outputId": "bcaff639-e1e6-4b76-cb2f-a959b50e8c91"
      },
      "outputs": [
        {
          "name": "stdout",
          "output_type": "stream",
          "text": [
            "\n",
            "\n",
            "\u001b[1m> Entering new AgentExecutor chain...\u001b[0m\n",
            "\u001b[32;1m\u001b[1;3m\n",
            "Invoking: `python_repl_ast` with `{'query': \"df[(df['Gender'] == 'female') & (df['loan_status'] == 'PAIDOFF')].shape[0]\"}`\n",
            "\n",
            "\n",
            "\u001b[0m\u001b[36;1m\u001b[1;3m53\u001b[0m\u001b[32;1m\u001b[1;3mThere are 53 loans from women that have been paid off.\u001b[0m\n",
            "\n",
            "\u001b[1m> Finished chain.\u001b[0m\n"
          ]
        }
      ],
      "source": [
        "response = pandas_df_agent.run(prompt)"
      ]
    },
    {
      "cell_type": "code",
      "execution_count": 17,
      "metadata": {
        "colab": {
          "base_uri": "https://localhost:8080/",
          "height": 35
        },
        "id": "dfWS1p4m3d52",
        "outputId": "291d35df-0599-4efb-d78d-579bb3a542ac"
      },
      "outputs": [
        {
          "data": {
            "application/vnd.google.colaboratory.intrinsic+json": {
              "type": "string"
            },
            "text/plain": [
              "'There are 53 loans from women that have been paid off.'"
            ]
          },
          "execution_count": 17,
          "metadata": {},
          "output_type": "execute_result"
        }
      ],
      "source": [
        "response"
      ]
    },
    {
      "cell_type": "markdown",
      "metadata": {
        "id": "FsX_hu9P5Sob"
      },
      "source": [
        "#Conclusions\n",
        "\n",
        "In this short course / workshop, we have learned how to chat with Pandas DataFrames using Pandasai and LagChain APIs. Both of these APIs support wide range of models. Pandasai is specifically designed to interact with tabular data.\n",
        "\n",
        "# Next Steps\n",
        "\n",
        "Nest step is to develop a Streamlit App to interact with Data and Wrap the App with Docker. We will cover two ways to deploy the app.\n"
      ]
    },
    {
      "cell_type": "code",
      "execution_count": null,
      "metadata": {
        "id": "lVcNw4Fp3gnf"
      },
      "outputs": [],
      "source": []
    }
  ],
  "metadata": {
    "accelerator": "GPU",
    "colab": {
      "gpuType": "T4",
      "provenance": []
    },
    "kernelspec": {
      "display_name": "Python 3",
      "name": "python3"
    },
    "language_info": {
      "name": "python"
    }
  },
  "nbformat": 4,
  "nbformat_minor": 0
}
